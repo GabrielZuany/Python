{
 "cells": [
  {
   "cell_type": "code",
   "execution_count": 2,
   "metadata": {},
   "outputs": [],
   "source": [
    "import pandas as pd\n",
    "\n",
    "dataset = pd.read_csv('dataset.csv')\n"
   ]
  },
  {
   "cell_type": "code",
   "execution_count": 3,
   "metadata": {},
   "outputs": [
    {
     "data": {
      "text/html": [
       "<div>\n",
       "<style scoped>\n",
       "    .dataframe tbody tr th:only-of-type {\n",
       "        vertical-align: middle;\n",
       "    }\n",
       "\n",
       "    .dataframe tbody tr th {\n",
       "        vertical-align: top;\n",
       "    }\n",
       "\n",
       "    .dataframe thead th {\n",
       "        text-align: right;\n",
       "    }\n",
       "</style>\n",
       "<table border=\"1\" class=\"dataframe\">\n",
       "  <thead>\n",
       "    <tr style=\"text-align: right;\">\n",
       "      <th></th>\n",
       "      <th>horas_estudo_mes</th>\n",
       "      <th>salario</th>\n",
       "    </tr>\n",
       "  </thead>\n",
       "  <tbody>\n",
       "    <tr>\n",
       "      <th>0</th>\n",
       "      <td>57.0</td>\n",
       "      <td>6813.0</td>\n",
       "    </tr>\n",
       "    <tr>\n",
       "      <th>1</th>\n",
       "      <td>48.0</td>\n",
       "      <td>6855.0</td>\n",
       "    </tr>\n",
       "    <tr>\n",
       "      <th>2</th>\n",
       "      <td>60.0</td>\n",
       "      <td>5801.0</td>\n",
       "    </tr>\n",
       "    <tr>\n",
       "      <th>3</th>\n",
       "      <td>73.0</td>\n",
       "      <td>7431.0</td>\n",
       "    </tr>\n",
       "    <tr>\n",
       "      <th>4</th>\n",
       "      <td>46.0</td>\n",
       "      <td>5475.0</td>\n",
       "    </tr>\n",
       "  </tbody>\n",
       "</table>\n",
       "</div>"
      ],
      "text/plain": [
       "   horas_estudo_mes  salario\n",
       "0              57.0   6813.0\n",
       "1              48.0   6855.0\n",
       "2              60.0   5801.0\n",
       "3              73.0   7431.0\n",
       "4              46.0   5475.0"
      ]
     },
     "execution_count": 3,
     "metadata": {},
     "output_type": "execute_result"
    }
   ],
   "source": [
    "dataset.head()"
   ]
  },
  {
   "cell_type": "code",
   "execution_count": 4,
   "metadata": {},
   "outputs": [
    {
     "data": {
      "text/html": [
       "<div>\n",
       "<style scoped>\n",
       "    .dataframe tbody tr th:only-of-type {\n",
       "        vertical-align: middle;\n",
       "    }\n",
       "\n",
       "    .dataframe tbody tr th {\n",
       "        vertical-align: top;\n",
       "    }\n",
       "\n",
       "    .dataframe thead th {\n",
       "        text-align: right;\n",
       "    }\n",
       "</style>\n",
       "<table border=\"1\" class=\"dataframe\">\n",
       "  <thead>\n",
       "    <tr style=\"text-align: right;\">\n",
       "      <th></th>\n",
       "      <th>horas_estudo_mes</th>\n",
       "      <th>salario</th>\n",
       "    </tr>\n",
       "  </thead>\n",
       "  <tbody>\n",
       "    <tr>\n",
       "      <th>horas_estudo_mes</th>\n",
       "      <td>1.000000</td>\n",
       "      <td>0.818576</td>\n",
       "    </tr>\n",
       "    <tr>\n",
       "      <th>salario</th>\n",
       "      <td>0.818576</td>\n",
       "      <td>1.000000</td>\n",
       "    </tr>\n",
       "  </tbody>\n",
       "</table>\n",
       "</div>"
      ],
      "text/plain": [
       "                  horas_estudo_mes   salario\n",
       "horas_estudo_mes          1.000000  0.818576\n",
       "salario                   0.818576  1.000000"
      ]
     },
     "execution_count": 4,
     "metadata": {},
     "output_type": "execute_result"
    }
   ],
   "source": [
    "dataset.corr()"
   ]
  },
  {
   "cell_type": "code",
   "execution_count": 5,
   "metadata": {},
   "outputs": [
    {
     "data": {
      "text/plain": [
       "horas_estudo_mes    0\n",
       "salario             0\n",
       "dtype: int64"
      ]
     },
     "execution_count": 5,
     "metadata": {},
     "output_type": "execute_result"
    }
   ],
   "source": [
    "dataset.isnull().sum()"
   ]
  },
  {
   "cell_type": "code",
   "execution_count": 6,
   "metadata": {},
   "outputs": [
    {
     "data": {
      "text/html": [
       "<div>\n",
       "<style scoped>\n",
       "    .dataframe tbody tr th:only-of-type {\n",
       "        vertical-align: middle;\n",
       "    }\n",
       "\n",
       "    .dataframe tbody tr th {\n",
       "        vertical-align: top;\n",
       "    }\n",
       "\n",
       "    .dataframe thead th {\n",
       "        text-align: right;\n",
       "    }\n",
       "</style>\n",
       "<table border=\"1\" class=\"dataframe\">\n",
       "  <thead>\n",
       "    <tr style=\"text-align: right;\">\n",
       "      <th></th>\n",
       "      <th>horas_estudo_mes</th>\n",
       "      <th>salario</th>\n",
       "    </tr>\n",
       "  </thead>\n",
       "  <tbody>\n",
       "    <tr>\n",
       "      <th>count</th>\n",
       "      <td>500.000000</td>\n",
       "      <td>500.000000</td>\n",
       "    </tr>\n",
       "    <tr>\n",
       "      <th>mean</th>\n",
       "      <td>50.060000</td>\n",
       "      <td>6018.930000</td>\n",
       "    </tr>\n",
       "    <tr>\n",
       "      <th>std</th>\n",
       "      <td>14.659406</td>\n",
       "      <td>848.697853</td>\n",
       "    </tr>\n",
       "    <tr>\n",
       "      <th>min</th>\n",
       "      <td>1.000000</td>\n",
       "      <td>3664.000000</td>\n",
       "    </tr>\n",
       "    <tr>\n",
       "      <th>25%</th>\n",
       "      <td>39.750000</td>\n",
       "      <td>5473.000000</td>\n",
       "    </tr>\n",
       "    <tr>\n",
       "      <th>50%</th>\n",
       "      <td>50.000000</td>\n",
       "      <td>6013.500000</td>\n",
       "    </tr>\n",
       "    <tr>\n",
       "      <th>75%</th>\n",
       "      <td>60.000000</td>\n",
       "      <td>6542.000000</td>\n",
       "    </tr>\n",
       "    <tr>\n",
       "      <th>max</th>\n",
       "      <td>100.000000</td>\n",
       "      <td>9348.000000</td>\n",
       "    </tr>\n",
       "  </tbody>\n",
       "</table>\n",
       "</div>"
      ],
      "text/plain": [
       "       horas_estudo_mes      salario\n",
       "count        500.000000   500.000000\n",
       "mean          50.060000  6018.930000\n",
       "std           14.659406   848.697853\n",
       "min            1.000000  3664.000000\n",
       "25%           39.750000  5473.000000\n",
       "50%           50.000000  6013.500000\n",
       "75%           60.000000  6542.000000\n",
       "max          100.000000  9348.000000"
      ]
     },
     "execution_count": 6,
     "metadata": {},
     "output_type": "execute_result"
    }
   ],
   "source": [
    "dataset.describe()"
   ]
  },
  {
   "cell_type": "code",
   "execution_count": 7,
   "metadata": {},
   "outputs": [
    {
     "name": "stdout",
     "output_type": "stream",
     "text": [
      "[[ 57.]\n",
      " [ 48.]\n",
      " [ 60.]\n",
      " [ 73.]\n",
      " [ 46.]\n",
      " [ 46.]\n",
      " [ 74.]\n",
      " [ 62.]\n",
      " [ 43.]\n",
      " [ 58.]\n",
      " [ 43.]\n",
      " [ 43.]\n",
      " [ 54.]\n",
      " [ 21.]\n",
      " [ 24.]\n",
      " [ 42.]\n",
      " [ 35.]\n",
      " [ 55.]\n",
      " [ 36.]\n",
      " [ 29.]\n",
      " [ 72.]\n",
      " [ 47.]\n",
      " [ 51.]\n",
      " [ 29.]\n",
      " [ 42.]\n",
      " [ 52.]\n",
      " [ 33.]\n",
      " [ 56.]\n",
      " [ 41.]\n",
      " [ 46.]\n",
      " [ 41.]\n",
      " [ 78.]\n",
      " [ 50.]\n",
      " [ 34.]\n",
      " [ 62.]\n",
      " [ 32.]\n",
      " [ 53.]\n",
      " [ 21.]\n",
      " [ 30.]\n",
      " [ 53.]\n",
      " [ 61.]\n",
      " [ 53.]\n",
      " [ 48.]\n",
      " [ 45.]\n",
      " [ 28.]\n",
      " [ 39.]\n",
      " [ 43.]\n",
      " [ 66.]\n",
      " [ 55.]\n",
      " [ 24.]\n",
      " [ 55.]\n",
      " [ 44.]\n",
      " [ 40.]\n",
      " [ 59.]\n",
      " [ 65.]\n",
      " [ 64.]\n",
      " [ 37.]\n",
      " [ 45.]\n",
      " [ 55.]\n",
      " [ 65.]\n",
      " [ 43.]\n",
      " [ 47.]\n",
      " [ 33.]\n",
      " [ 32.]\n",
      " [ 62.]\n",
      " [ 70.]\n",
      " [ 49.]\n",
      " [ 65.]\n",
      " [ 55.]\n",
      " [ 40.]\n",
      " [ 55.]\n",
      " [ 73.]\n",
      " [ 49.]\n",
      " [ 73.]\n",
      " [ 11.]\n",
      " [ 62.]\n",
      " [ 51.]\n",
      " [ 46.]\n",
      " [ 51.]\n",
      " [ 20.]\n",
      " [ 47.]\n",
      " [ 55.]\n",
      " [ 72.]\n",
      " [ 42.]\n",
      " [ 38.]\n",
      " [ 42.]\n",
      " [ 64.]\n",
      " [ 55.]\n",
      " [ 42.]\n",
      " [ 58.]\n",
      " [ 51.]\n",
      " [ 65.]\n",
      " [ 39.]\n",
      " [ 45.]\n",
      " [ 44.]\n",
      " [ 28.]\n",
      " [ 54.]\n",
      " [ 54.]\n",
      " [ 50.]\n",
      " [ 46.]\n",
      " [ 29.]\n",
      " [ 44.]\n",
      " [ 45.]\n",
      " [ 38.]\n",
      " [ 48.]\n",
      " [ 56.]\n",
      " [ 78.]\n",
      " [ 53.]\n",
      " [ 54.]\n",
      " [ 49.]\n",
      " [ 21.]\n",
      " [ 50.]\n",
      " [ 51.]\n",
      " [ 87.]\n",
      " [ 47.]\n",
      " [ 55.]\n",
      " [ 49.]\n",
      " [ 32.]\n",
      " [ 67.]\n",
      " [ 61.]\n",
      " [ 62.]\n",
      " [ 36.]\n",
      " [ 71.]\n",
      " [ 29.]\n",
      " [ 59.]\n",
      " [ 83.]\n",
      " [ 35.]\n",
      " [ 42.]\n",
      " [ 51.]\n",
      " [ 42.]\n",
      " [ 27.]\n",
      " [ 51.]\n",
      " [ 34.]\n",
      " [ 57.]\n",
      " [ 36.]\n",
      " [ 73.]\n",
      " [ 38.]\n",
      " [ 45.]\n",
      " [ 62.]\n",
      " [ 32.]\n",
      " [ 53.]\n",
      " [ 70.]\n",
      " [ 26.]\n",
      " [ 53.]\n",
      " [ 54.]\n",
      " [ 62.]\n",
      " [ 31.]\n",
      " [ 30.]\n",
      " [ 58.]\n",
      " [ 54.]\n",
      " [ 54.]\n",
      " [ 55.]\n",
      " [ 40.]\n",
      " [ 53.]\n",
      " [ 54.]\n",
      " [ 39.]\n",
      " [ 78.]\n",
      " [ 57.]\n",
      " [ 32.]\n",
      " [ 60.]\n",
      " [ 35.]\n",
      " [ 62.]\n",
      " [ 67.]\n",
      " [ 38.]\n",
      " [ 64.]\n",
      " [ 56.]\n",
      " [ 62.]\n",
      " [ 78.]\n",
      " [ 46.]\n",
      " [ 39.]\n",
      " [ 37.]\n",
      " [ 38.]\n",
      " [ 49.]\n",
      " [ 55.]\n",
      " [ 54.]\n",
      " [ 62.]\n",
      " [ 50.]\n",
      " [ 72.]\n",
      " [ 46.]\n",
      " [ 91.]\n",
      " [ 59.]\n",
      " [ 37.]\n",
      " [ 34.]\n",
      " [ 57.]\n",
      " [ 47.]\n",
      " [ 61.]\n",
      " [ 57.]\n",
      " [ 49.]\n",
      " [ 37.]\n",
      " [ 27.]\n",
      " [ 43.]\n",
      " [ 63.]\n",
      " [ 53.]\n",
      " [ 31.]\n",
      " [ 53.]\n",
      " [ 56.]\n",
      " [ 37.]\n",
      " [ 52.]\n",
      " [ 51.]\n",
      " [ 33.]\n",
      " [ 55.]\n",
      " [ 58.]\n",
      " [ 66.]\n",
      " [ 66.]\n",
      " [ 29.]\n",
      " [ 36.]\n",
      " [ 58.]\n",
      " [ 58.]\n",
      " [ 58.]\n",
      " [100.]\n",
      " [ 59.]\n",
      " [ 67.]\n",
      " [ 64.]\n",
      " [ 60.]\n",
      " [ 45.]\n",
      " [ 61.]\n",
      " [ 38.]\n",
      " [ 46.]\n",
      " [ 43.]\n",
      " [ 51.]\n",
      " [ 85.]\n",
      " [ 22.]\n",
      " [ 60.]\n",
      " [ 26.]\n",
      " [ 43.]\n",
      " [ 66.]\n",
      " [ 51.]\n",
      " [ 34.]\n",
      " [ 39.]\n",
      " [ 60.]\n",
      " [ 39.]\n",
      " [ 53.]\n",
      " [ 51.]\n",
      " [ 40.]\n",
      " [ 82.]\n",
      " [ 60.]\n",
      " [ 20.]\n",
      " [ 53.]\n",
      " [ 40.]\n",
      " [ 63.]\n",
      " [ 38.]\n",
      " [ 48.]\n",
      " [ 58.]\n",
      " [ 63.]\n",
      " [ 32.]\n",
      " [ 45.]\n",
      " [ 43.]\n",
      " [ 40.]\n",
      " [ 76.]\n",
      " [ 56.]\n",
      " [ 31.]\n",
      " [ 64.]\n",
      " [ 82.]\n",
      " [ 65.]\n",
      " [ 27.]\n",
      " [ 43.]\n",
      " [ 69.]\n",
      " [ 39.]\n",
      " [ 57.]\n",
      " [ 62.]\n",
      " [ 36.]\n",
      " [ 49.]\n",
      " [  1.]\n",
      " [ 35.]\n",
      " [ 46.]\n",
      " [ 31.]\n",
      " [ 74.]\n",
      " [ 29.]\n",
      " [ 43.]\n",
      " [ 52.]\n",
      " [ 72.]\n",
      " [ 28.]\n",
      " [ 67.]\n",
      " [ 50.]\n",
      " [ 35.]\n",
      " [ 57.]\n",
      " [ 53.]\n",
      " [ 41.]\n",
      " [ 51.]\n",
      " [ 44.]\n",
      " [ 52.]\n",
      " [ 60.]\n",
      " [ 74.]\n",
      " [ 31.]\n",
      " [ 82.]\n",
      " [ 21.]\n",
      " [ 48.]\n",
      " [ 59.]\n",
      " [ 54.]\n",
      " [ 41.]\n",
      " [ 47.]\n",
      " [ 43.]\n",
      " [ 41.]\n",
      " [ 63.]\n",
      " [ 55.]\n",
      " [ 40.]\n",
      " [ 63.]\n",
      " [ 55.]\n",
      " [ 62.]\n",
      " [ 59.]\n",
      " [ 38.]\n",
      " [ 42.]\n",
      " [ 61.]\n",
      " [ 59.]\n",
      " [ 50.]\n",
      " [ 52.]\n",
      " [ 69.]\n",
      " [ 41.]\n",
      " [ 58.]\n",
      " [ 47.]\n",
      " [ 47.]\n",
      " [ 66.]\n",
      " [ 62.]\n",
      " [ 62.]\n",
      " [ 70.]\n",
      " [ 50.]\n",
      " [ 60.]\n",
      " [ 45.]\n",
      " [ 55.]\n",
      " [ 48.]\n",
      " [ 51.]\n",
      " [ 59.]\n",
      " [ 38.]\n",
      " [ 81.]\n",
      " [ 35.]\n",
      " [ 32.]\n",
      " [ 67.]\n",
      " [ 62.]\n",
      " [ 59.]\n",
      " [ 59.]\n",
      " [ 50.]\n",
      " [ 37.]\n",
      " [ 51.]\n",
      " [ 40.]\n",
      " [ 65.]\n",
      " [ 48.]\n",
      " [ 38.]\n",
      " [ 45.]\n",
      " [ 56.]\n",
      " [ 42.]\n",
      " [ 38.]\n",
      " [ 54.]\n",
      " [ 54.]\n",
      " [ 42.]\n",
      " [ 43.]\n",
      " [ 53.]\n",
      " [ 28.]\n",
      " [ 29.]\n",
      " [ 39.]\n",
      " [ 47.]\n",
      " [ 55.]\n",
      " [ 72.]\n",
      " [ 63.]\n",
      " [ 48.]\n",
      " [ 50.]\n",
      " [ 35.]\n",
      " [ 50.]\n",
      " [ 46.]\n",
      " [ 55.]\n",
      " [ 38.]\n",
      " [ 58.]\n",
      " [ 73.]\n",
      " [ 48.]\n",
      " [ 56.]\n",
      " [ 60.]\n",
      " [ 44.]\n",
      " [ 53.]\n",
      " [ 50.]\n",
      " [ 51.]\n",
      " [ 38.]\n",
      " [ 50.]\n",
      " [ 57.]\n",
      " [ 72.]\n",
      " [ 64.]\n",
      " [ 82.]\n",
      " [ 38.]\n",
      " [ 63.]\n",
      " [ 53.]\n",
      " [ 83.]\n",
      " [ 38.]\n",
      " [ 37.]\n",
      " [ 41.]\n",
      " [ 18.]\n",
      " [ 42.]\n",
      " [ 39.]\n",
      " [ 52.]\n",
      " [ 55.]\n",
      " [ 78.]\n",
      " [ 64.]\n",
      " [ 41.]\n",
      " [ 37.]\n",
      " [ 57.]\n",
      " [ 30.]\n",
      " [ 77.]\n",
      " [ 68.]\n",
      " [ 43.]\n",
      " [ 24.]\n",
      " [ 70.]\n",
      " [ 48.]\n",
      " [ 69.]\n",
      " [ 26.]\n",
      " [ 41.]\n",
      " [ 50.]\n",
      " [ 51.]\n",
      " [ 43.]\n",
      " [ 59.]\n",
      " [ 34.]\n",
      " [ 48.]\n",
      " [ 52.]\n",
      " [ 58.]\n",
      " [ 61.]\n",
      " [ 33.]\n",
      " [ 27.]\n",
      " [ 69.]\n",
      " [ 55.]\n",
      " [ 39.]\n",
      " [ 73.]\n",
      " [ 52.]\n",
      " [ 68.]\n",
      " [ 51.]\n",
      " [ 81.]\n",
      " [ 76.]\n",
      " [ 46.]\n",
      " [ 65.]\n",
      " [ 60.]\n",
      " [ 71.]\n",
      " [ 36.]\n",
      " [ 60.]\n",
      " [ 66.]\n",
      " [ 24.]\n",
      " [ 32.]\n",
      " [ 19.]\n",
      " [ 46.]\n",
      " [ 61.]\n",
      " [ 73.]\n",
      " [ 51.]\n",
      " [ 74.]\n",
      " [ 29.]\n",
      " [ 24.]\n",
      " [ 49.]\n",
      " [ 56.]\n",
      " [ 50.]\n",
      " [ 19.]\n",
      " [ 49.]\n",
      " [ 30.]\n",
      " [ 60.]\n",
      " [ 55.]\n",
      " [ 36.]\n",
      " [ 42.]\n",
      " [ 34.]\n",
      " [ 49.]\n",
      " [ 64.]\n",
      " [ 35.]\n",
      " [ 58.]\n",
      " [ 42.]\n",
      " [ 38.]\n",
      " [ 48.]\n",
      " [ 34.]\n",
      " [ 42.]\n",
      " [ 32.]\n",
      " [ 79.]\n",
      " [ 51.]\n",
      " [ 40.]\n",
      " [ 53.]\n",
      " [ 48.]\n",
      " [ 47.]\n",
      " [ 59.]\n",
      " [ 61.]\n",
      " [ 42.]\n",
      " [ 41.]\n",
      " [ 46.]\n",
      " [ 15.]\n",
      " [ 27.]\n",
      " [ 71.]\n",
      " [ 75.]\n",
      " [ 46.]\n",
      " [ 59.]\n",
      " [ 55.]\n",
      " [ 96.]\n",
      " [ 67.]\n",
      " [ 48.]\n",
      " [ 36.]\n",
      " [ 26.]\n",
      " [ 53.]\n",
      " [ 39.]\n",
      " [ 29.]\n",
      " [ 40.]\n",
      " [ 34.]\n",
      " [ 75.]\n",
      " [ 63.]\n",
      " [ 50.]\n",
      " [ 72.]\n",
      " [ 51.]\n",
      " [ 37.]\n",
      " [ 73.]\n",
      " [ 58.]\n",
      " [ 34.]\n",
      " [ 47.]\n",
      " [ 37.]\n",
      " [ 29.]]\n"
     ]
    }
   ],
   "source": [
    "import numpy as np\n",
    "x = np.array(dataset['horas_estudo_mes'], dtype = float)\n",
    "x = x.reshape(-1, 1)\n",
    "print(x)"
   ]
  },
  {
   "cell_type": "code",
   "execution_count": 8,
   "metadata": {},
   "outputs": [
    {
     "data": {
      "text/plain": [
       "<Axes: xlabel='horas_estudo_mes', ylabel='Count'>"
      ]
     },
     "execution_count": 8,
     "metadata": {},
     "output_type": "execute_result"
    },
    {
     "data": {
      "image/png": "[encoded data removed]",
      "text/plain": [
       "<Figure size 640x480 with 1 Axes>"
      ]
     },
     "metadata": {},
     "output_type": "display_data"
    }
   ],
   "source": [
    "\"\"\"\n",
    "> histrogram shows the distribution of the data following a Gaussian distribution (normal distribution).\n",
    "\"\"\"\n",
    "import seaborn as sns\n",
    "sns.histplot(dataset['horas_estudo_mes'], kde = True)"
   ]
  },
  {
   "cell_type": "code",
   "execution_count": 9,
   "metadata": {},
   "outputs": [],
   "source": [
    "\"\"\"\n",
    "> Setting the variables for the linear regression\n",
    "> X = input variable, Y = output variable\n",
    "\"\"\"\n",
    "x = np.array(dataset['horas_estudo_mes'], dtype = float)\n",
    "x = x.reshape(-1, 1)\n",
    "y = dataset['salario']"
   ]
  },
  {
   "cell_type": "code",
   "execution_count": 10,
   "metadata": {},
   "outputs": [
    {
     "data": {
      "image/png": "[encoded data removed]",
      "text/plain": [
       "<Figure size 640x480 with 1 Axes>"
      ]
     },
     "metadata": {},
     "output_type": "display_data"
    }
   ],
   "source": [
    "\"\"\"\n",
    "> Scatterplot to verify the correlation between the variables\n",
    "\"\"\"\n",
    "from matplotlib import pyplot as plt\n",
    "plt.scatter(x, y, label = 'Collected Data')\n",
    "plt.xlabel('Study Hours')\n",
    "plt.ylabel('Salary')\n",
    "plt.legend()\n",
    "plt.show()"
   ]
  },
  {
   "cell_type": "code",
   "execution_count": 11,
   "metadata": {},
   "outputs": [],
   "source": [
    "import sklearn as sk\n",
    "from sklearn.model_selection import train_test_split\n",
    "x_train, x_test, y_train, y_test = train_test_split(x, y, test_size = 0.2, random_state = 42)\n",
    "\n",
    "# 20% of the data is used for testing and 80% for training.\n",
    "# random state = 42 is the seed for the random number generator (but it's not necessary, it's just to make the results reproducible)."
   ]
  },
  {
   "cell_type": "code",
   "execution_count": 12,
   "metadata": {},
   "outputs": [
    {
     "data": {
      "text/plain": [
       "(400, 1)"
      ]
     },
     "execution_count": 12,
     "metadata": {},
     "output_type": "execute_result"
    }
   ],
   "source": [
    "x_train.shape # x is a one dimension matrix"
   ]
  },
  {
   "cell_type": "code",
   "execution_count": 13,
   "metadata": {},
   "outputs": [
    {
     "data": {
      "text/plain": [
       "(100, 1)"
      ]
     },
     "execution_count": 13,
     "metadata": {},
     "output_type": "execute_result"
    }
   ],
   "source": [
    "x_test.shape"
   ]
  },
  {
   "cell_type": "code",
   "execution_count": 14,
   "metadata": {},
   "outputs": [
    {
     "data": {
      "text/plain": [
       "(400,)"
      ]
     },
     "execution_count": 14,
     "metadata": {},
     "output_type": "execute_result"
    }
   ],
   "source": [
    "y_train.shape # y is a vector"
   ]
  },
  {
   "cell_type": "code",
   "execution_count": 15,
   "metadata": {},
   "outputs": [
    {
     "data": {
      "text/plain": [
       "(100,)"
      ]
     },
     "execution_count": 15,
     "metadata": {},
     "output_type": "execute_result"
    }
   ],
   "source": [
    "y_test.shape"
   ]
  },
  {
   "cell_type": "code",
   "execution_count": 16,
   "metadata": {},
   "outputs": [
    {
     "data": {
      "text/html": [
       "<style>#sk-container-id-1 {color: black;background-color: white;}#sk-container-id-1 pre{padding: 0;}#sk-container-id-1 div.sk-toggleable {background-color: white;}#sk-container-id-1 label.sk-toggleable__label {cursor: pointer;display: block;width: 100%;margin-bottom: 0;padding: 0.3em;box-sizing: border-box;text-align: center;}#sk-container-id-1 label.sk-toggleable__label-arrow:before {content: \"▸\";float: left;margin-right: 0.25em;color: #696969;}#sk-container-id-1 label.sk-toggleable__label-arrow:hover:before {color: black;}#sk-container-id-1 div.sk-estimator:hover label.sk-toggleable__label-arrow:before {color: black;}#sk-container-id-1 div.sk-toggleable__content {max-height: 0;max-width: 0;overflow: hidden;text-align: left;background-color: #f0f8ff;}#sk-container-id-1 div.sk-toggleable__content pre {margin: 0.2em;color: black;border-radius: 0.25em;background-color: #f0f8ff;}#sk-container-id-1 input.sk-toggleable__control:checked~div.sk-toggleable__content {max-height: 200px;max-width: 100%;overflow: auto;}#sk-container-id-1 input.sk-toggleable__control:checked~label.sk-toggleable__label-arrow:before {content: \"▾\";}#sk-container-id-1 div.sk-estimator input.sk-toggleable__control:checked~label.sk-toggleable__label {background-color: #d4ebff;}#sk-container-id-1 div.sk-label input.sk-toggleable__control:checked~label.sk-toggleable__label {background-color: #d4ebff;}#sk-container-id-1 input.sk-hidden--visually {border: 0;clip: rect(1px 1px 1px 1px);clip: rect(1px, 1px, 1px, 1px);height: 1px;margin: -1px;overflow: hidden;padding: 0;position: absolute;width: 1px;}#sk-container-id-1 div.sk-estimator {font-family: monospace;background-color: #f0f8ff;border: 1px dotted black;border-radius: 0.25em;box-sizing: border-box;margin-bottom: 0.5em;}#sk-container-id-1 div.sk-estimator:hover {background-color: #d4ebff;}#sk-container-id-1 div.sk-parallel-item::after {content: \"\";width: 100%;border-bottom: 1px solid gray;flex-grow: 1;}#sk-container-id-1 div.sk-label:hover label.sk-toggleable__label {background-color: #d4ebff;}#sk-container-id-1 div.sk-serial::before {content: \"\";position: absolute;border-left: 1px solid gray;box-sizing: border-box;top: 0;bottom: 0;left: 50%;z-index: 0;}#sk-container-id-1 div.sk-serial {display: flex;flex-direction: column;align-items: center;background-color: white;padding-right: 0.2em;padding-left: 0.2em;position: relative;}#sk-container-id-1 div.sk-item {position: relative;z-index: 1;}#sk-container-id-1 div.sk-parallel {display: flex;align-items: stretch;justify-content: center;background-color: white;position: relative;}#sk-container-id-1 div.sk-item::before, #sk-container-id-1 div.sk-parallel-item::before {content: \"\";position: absolute;border-left: 1px solid gray;box-sizing: border-box;top: 0;bottom: 0;left: 50%;z-index: -1;}#sk-container-id-1 div.sk-parallel-item {display: flex;flex-direction: column;z-index: 1;position: relative;background-color: white;}#sk-container-id-1 div.sk-parallel-item:first-child::after {align-self: flex-end;width: 50%;}#sk-container-id-1 div.sk-parallel-item:last-child::after {align-self: flex-start;width: 50%;}#sk-container-id-1 div.sk-parallel-item:only-child::after {width: 0;}#sk-container-id-1 div.sk-dashed-wrapped {border: 1px dashed gray;margin: 0 0.4em 0.5em 0.4em;box-sizing: border-box;padding-bottom: 0.4em;background-color: white;}#sk-container-id-1 div.sk-label label {font-family: monospace;font-weight: bold;display: inline-block;line-height: 1.2em;}#sk-container-id-1 div.sk-label-container {text-align: center;}#sk-container-id-1 div.sk-container {/* jupyter's `normalize.less` sets `[hidden] { display: none; }` but bootstrap.min.css set `[hidden] { display: none !important; }` so we also need the `!important` here to be able to override the default hidden behavior on the sphinx rendered scikit-learn.org. See: https://github.com/scikit-learn/scikit-learn/issues/21755 */display: inline-block !important;position: relative;}#sk-container-id-1 div.sk-text-repr-fallback {display: none;}</style><div id=\"sk-container-id-1\" class=\"sk-top-container\"><div class=\"sk-text-repr-fallback\"><pre>LinearRegression()</pre><b>In a Jupyter environment, please rerun this cell to show the HTML representation or trust the notebook. <br />On GitHub, the HTML representation is unable to render, please try loading this page with nbviewer.org.</b></div><div class=\"sk-container\" hidden><div class=\"sk-item\"><div class=\"sk-estimator sk-toggleable\"><input class=\"sk-toggleable__control sk-hidden--visually\" id=\"sk-estimator-id-1\" type=\"checkbox\" checked><label for=\"sk-estimator-id-1\" class=\"sk-toggleable__label sk-toggleable__label-arrow\">LinearRegression</label><div class=\"sk-toggleable__content\"><pre>LinearRegression()</pre></div></div></div></div></div>"
      ],
      "text/plain": [
       "LinearRegression()"
      ]
     },
     "execution_count": 16,
     "metadata": {},
     "output_type": "execute_result"
    }
   ],
   "source": [
    "from sklearn.linear_model import LinearRegression\n",
    "\n",
    "# Creating the model\n",
    "model = LinearRegression()\n",
    "\n",
    "# Training the model\n",
    "model.fit(x_train, y_train)"
   ]
  },
  {
   "cell_type": "code",
   "execution_count": 17,
   "metadata": {},
   "outputs": [
    {
     "data": {
      "image/png": "[encoded data removed]",
      "text/plain": [
       "<Figure size 640x480 with 1 Axes>"
      ]
     },
     "metadata": {},
     "output_type": "display_data"
    }
   ],
   "source": [
    "# Visualizing the linear regression line\n",
    "plt.scatter(x, y, label = 'Collected Data')\n",
    "plt.plot(x, model.predict(x), color = 'red', label = 'Linear Regression Line')\n",
    "plt.xlabel('Study Hours')\n",
    "plt.ylabel('Salary')\n",
    "plt.legend()\n",
    "plt.show()"
   ]
  },
  {
   "cell_type": "code",
   "execution_count": 18,
   "metadata": {},
   "outputs": [
    {
     "name": "stdout",
     "output_type": "stream",
     "text": [
      "Accuracy (R^2): 0.59\n"
     ]
    }
   ],
   "source": [
    "# Accuracy of the model\n",
    "score = model.score(x_test, y_test)\n",
    "print('Accuracy (R^2): {:.2f}'.format(score))"
   ]
  },
  {
   "cell_type": "code",
   "execution_count": 19,
   "metadata": {},
   "outputs": [
    {
     "data": {
      "text/plain": [
       "3596.783724372753"
      ]
     },
     "execution_count": 19,
     "metadata": {},
     "output_type": "execute_result"
    }
   ],
   "source": [
    "# Intercept - w0\n",
    "model.intercept_"
   ]
  },
  {
   "cell_type": "code",
   "execution_count": 20,
   "metadata": {},
   "outputs": [
    {
     "data": {
      "text/plain": [
       "array([48.18185277])"
      ]
     },
     "execution_count": 20,
     "metadata": {},
     "output_type": "execute_result"
    }
   ],
   "source": [
    "# Slope - w1\n",
    "model.coef_"
   ]
  },
  {
   "cell_type": "code",
   "execution_count": 22,
   "metadata": {},
   "outputs": [],
   "source": [
    "# DEPLOY MODEL"
   ]
  },
  {
   "cell_type": "code",
   "execution_count": 21,
   "metadata": {},
   "outputs": [
    {
     "name": "stdout",
     "output_type": "stream",
     "text": [
      "If you study for [[48]] hours, your salary will be $[5909.5126574]\n"
     ]
    }
   ],
   "source": [
    "# Define a new value for study hours\n",
    "new_study_hours = np.array([[48]])\n",
    "\n",
    "# Predicting the salary for the new study hours\n",
    "predict_salary = model.predict(new_study_hours)\n",
    "\n",
    "print(f'If you study for {new_study_hours} hours, your salary will be ${predict_salary}')"
   ]
  },
  {
   "cell_type": "code",
   "execution_count": 24,
   "metadata": {},
   "outputs": [
    {
     "name": "stdout",
     "output_type": "stream",
     "text": [
      "If you study for [[48]] hours, your salary will be $[[5909.5126574]]\n"
     ]
    }
   ],
   "source": [
    "# Proving the result\n",
    "y_new = model.intercept_ + model.coef_ * new_study_hours # y = w0 + w1 * x\n",
    "\n",
    "# the model training is for obtain the w0 and w1 values, \n",
    "# so we can use the formula y = w0 + w1 * x to predict the salary for a new study hours value.\n",
    "print(f'If you study for {new_study_hours} hours, your salary will be ${y_new}')"
   ]
  }
 ],
 "metadata": {
  "kernelspec": {
   "display_name": ".venv",
   "language": "python",
   "name": "python3"
  },
  "language_info": {
   "codemirror_mode": {
    "name": "ipython",
    "version": 3
   },
   "file_extension": ".py",
   "mimetype": "text/x-python",
   "name": "python",
   "nbconvert_exporter": "python",
   "pygments_lexer": "ipython3",
   "version": "3.11.3"
  },
  "orig_nbformat": 4
 },
 "nbformat": 4,
 "nbformat_minor": 2
}
